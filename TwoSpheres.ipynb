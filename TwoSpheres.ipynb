{
 "cells": [
  {
   "cell_type": "code",
   "execution_count": 6,
   "metadata": {},
   "outputs": [],
   "source": [
    "import manifold1\n",
    "import numpy as np\n",
    "import matplotlib.pyplot as plt\n",
    "plt.rc('text', usetex=False)\n",
    "import math\n",
    "from ripser import ripser\n",
    "from persim import plot_diagrams\n"
   ]
  },
  {
   "cell_type": "code",
   "execution_count": null,
   "metadata": {},
   "outputs": [],
   "source": [
    "import matplotlib.pyplot as plt\n",
    "plt.rc('text', usetex=False)\n",
    "\n",
    "def plot_points(points, ax, color='black', s=1, title='title', n = 1.5):\n",
    "    ax.scatter(points[:, 0], points[:, 1], points[:, 2], c=color, s=s)\n",
    "    ax.set_xlabel('X', fontsize=8, rotation=20, labelpad=2)\n",
    "    ax.set_ylabel('Y', fontsize=8, rotation=20, labelpad=2)\n",
    "    ax.set_zlabel('Z', fontsize=8, rotation=20, labelpad=2)\n",
    "    ax.set_xticks([ -2, -1, 0, 1, 2])\n",
    "    ax.set_yticks([ -2, -1, 0, 1, 2])\n",
    "    ax.set_zticks([ -2, -1, 0, 1, 2])\n",
    "    ax.set_title(title, fontsize=14)\n",
    "    ax.set_xlim(-n, n)\n",
    "    ax.set_ylim(-n, n)\n",
    "    ax.set_zlim(-n, n)\n",
    "\n",
    "def plot_figure(X, title, n):\n",
    "    fig = plt.figure()\n",
    "    ax = fig.add_subplot(111, projection='3d')\n",
    "    plot_points(X, ax, title=title, n=n)\n",
    "    plt.show()"
   ]
  },
  {
   "cell_type": "markdown",
   "metadata": {},
   "source": [
    "***Geometric Anomaly Detection Function***"
   ]
  },
  {
   "cell_type": "code",
   "execution_count": 4,
   "metadata": {},
   "outputs": [],
   "source": [
    "import numpy as np\n",
    "from sklearn.neighbors import NearestNeighbors\n",
    "from ripser import ripser\n",
    "\n",
    "def geometric_anomaly_detection(P, r, s, k):\n",
    "    print('Starting geometric anomaly detection')\n",
    "    # Initialize the subsets of points Pman, Pbnd, and Pint\n",
    "    Pman, Pbnd, Pint = set(), set(), set()\n",
    "    \n",
    "    # Create a NearestNeighbors instance and fit it to the dataset P\n",
    "    nn = NearestNeighbors(radius=s)\n",
    "    nn.fit(P)\n",
    "    print('Nearest Neighbors fitted')\n",
    "    \n",
    "    # Iterate over all points in P\n",
    "    for i, y in enumerate(P):\n",
    "        print('Processing point', i)\n",
    "        # Find the annulus Ay for the point y\n",
    "        indices = nn.radius_neighbors([y], radius=s, return_distance=False)[0]\n",
    "        Ay = P[indices]\n",
    "        Ay = Ay[np.linalg.norm(Ay - y, axis=1) >= r]\n",
    "    \n",
    "        # Compute persistent cohomology for the annulus Ay\n",
    "        diagrams = ripser(Ay)['dgms']\n",
    "        \n",
    "    \n",
    "        \n",
    "        \n",
    "        # Calculate Ny, the number of sufficiently long intervals in the barcode for dimension (k-1)\n",
    "        Ny = sum(1 for interval in diagrams[k-1] if interval[1] - interval[0] > (s - r))\n",
    "    \n",
    "        \n",
    "        # Classify the point y based on Ny\n",
    "        if Ny == 0:\n",
    "            Pbnd.add(i)\n",
    "        elif Ny == 1:\n",
    "            Pman.add(i)\n",
    "        else:\n",
    "            Pint.add(i)\n",
    "\n",
    "    print('Geometric anomaly detection complete')\n",
    "    \n",
    "    # Return the partition of P into subsets Pman, Pbnd, and Pint\n",
    "    return Pman, Pbnd, Pint\n",
    "\n"
   ]
  },
  {
   "cell_type": "markdown",
   "metadata": {},
   "source": [
    "***Function Run GAD function + plot***"
   ]
  },
  {
   "cell_type": "code",
   "execution_count": 8,
   "metadata": {},
   "outputs": [],
   "source": [
    "def plot_P(X, s, k = 2, sizeP=\"K\"):\n",
    "    # Set the parameters for the geometric anomaly detection algorithm\n",
    "    r = 5*s/8\n",
    "    # Run the geometric anomaly detection algorithm\n",
    "    Pman, Pbnd, Pint = geometric_anomaly_detection(X, r, s, k)\n",
    "    Pman = X[list(Pman)]\n",
    "    Pbnd = X[list(Pbnd)]\n",
    "    Pint = X[list(Pint)]\n",
    "    print('Manifold points:', len(Pman))\n",
    "    print('Boundary points:', len(Pbnd))\n",
    "    print('Interior points:', len(Pint))\n",
    "    #save subsets of points in files .npy\n",
    "    np.save('Pman'+str(sizeP), Pman)\n",
    "    np.save('Pbnd'+str(sizeP), Pbnd)\n",
    "    np.save('Pint'+str(sizeP), Pint)\n",
    "\n",
    "    #set string for title of plot : sizeP + Manifold points, Boundary points, Intersection points\n",
    "    title_Pman = str(sizeP) + ' Manifold points'\n",
    "    title_Pbnd = str(sizeP) + ' Boundary points'\n",
    "    title_Pint = str(sizeP) + ' Intersection points'\n",
    "\n",
    "    # Plot the results of the geometric anomaly detection algorithm\n",
    "    plot_figure(Pman, title_Pman, 2)\n",
    "    plot_figure(Pbnd, title_Pbnd, 2)\n",
    "    plot_figure(Pint, title_Pint, 2)"
   ]
  },
  {
   "cell_type": "markdown",
   "metadata": {},
   "source": [
    "***Generate Spheres with adjusted sizes***"
   ]
  },
  {
   "cell_type": "code",
   "execution_count": null,
   "metadata": {},
   "outputs": [],
   "source": [
    "import matplotlib.pyplot as plt\n",
    "plt.rc('text', usetex=False)\n",
    "\n",
    "\n",
    "def sphere_points(nPoints, sizeAdd = 0, filename = \"sphere_points.npy\"):\n",
    "    X1 = manifold1.Sphere.sample(nPoints, 2) # sample 1000 points from a 2-sphere\n",
    "    X1 -= [.5, .5, 0]\n",
    "    X2 = manifold1.Sphere.sample(nPoints, 2) # sample 1000 points from a 3-sphere\n",
    "    X2 += [.5, .5, 0]\n",
    "    # concatenate the two point clouds\n",
    "    X = np.concatenate((X1, X2))\n",
    "    print(X.shape)\n",
    "    \n",
    "    data = X * sizeAdd\n",
    "    np.save(filename, data)\n",
    "    return data\n",
    "    \n",
    "\n",
    "X = sphere_points(1000, 1.7, 'sp1000.npy')\n",
    "Y = sphere_points(3000, 1.7, 'sp3000.npy')\n",
    "Z = sphere_points(5000, 1.7, 'sp5000.npy')\n"
   ]
  }
 ],
 "metadata": {
  "kernelspec": {
   "display_name": "base",
   "language": "python",
   "name": "python3"
  },
  "language_info": {
   "codemirror_mode": {
    "name": "ipython",
    "version": 3
   },
   "file_extension": ".py",
   "mimetype": "text/x-python",
   "name": "python",
   "nbconvert_exporter": "python",
   "pygments_lexer": "ipython3",
   "version": "3.11.7"
  }
 },
 "nbformat": 4,
 "nbformat_minor": 2
}
